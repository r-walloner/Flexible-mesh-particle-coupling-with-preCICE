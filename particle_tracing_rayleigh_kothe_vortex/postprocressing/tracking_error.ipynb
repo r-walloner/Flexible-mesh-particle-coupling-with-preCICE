{
 "cells": [
  {
   "cell_type": "code",
   "execution_count": 1,
   "metadata": {},
   "outputs": [],
   "source": [
    "import sys\n",
    "import os\n",
    "import pathlib\n",
    "import json\n",
    "import pyvista as pv\n",
    "import pandas as pd\n",
    "import numpy as np\n",
    "import matplotlib.pyplot as plt\n",
    "\n",
    "\n",
    "working_dir = pathlib.Path(os.path.abspath(\"\"))\n",
    "sys.path.append(str(working_dir.parent))\n",
    "from runs import find_runs  # noqa: E402"
   ]
  },
  {
   "cell_type": "markdown",
   "metadata": {},
   "source": [
    "### Load data and calculate error"
   ]
  },
  {
   "cell_type": "code",
   "execution_count": 2,
   "metadata": {},
   "outputs": [
    {
     "name": "stdout",
     "output_type": "stream",
     "text": []
    }
   ],
   "source": [
    "def load_data(runs_dir: pathlib.Path) -> pd.DataFrame:\n",
    "    \"\"\"Load the data from the runs in the given directory.\n",
    "    Calculate the position error between timestep 0 and 2000\n",
    "\n",
    "    Args:\n",
    "        runs_dir: The directory containing the runs.\n",
    "        timestep: The timestep to load.\n",
    "\n",
    "    Return:\n",
    "        A pandas DataFrame containing the data. The index is the grid spacing and\n",
    "        the columns are the different mappings.\n",
    "    \"\"\"\n",
    "\n",
    "    # Find the runs, we are interested in\n",
    "    runs = find_runs(runs_dir)\n",
    "\n",
    "    # Load the data\n",
    "    data = {}  # Raw data: {grid_spacing: {timestep: error_value}}\n",
    "\n",
    "    for run_path in runs:\n",
    "        # Read parameters of the run\n",
    "        with open(run_path / \"parameters.json\") as file:\n",
    "            parameters = json.load(file)\n",
    "\n",
    "        # Calculate grid spacing from refinement level\n",
    "        grid_spacing = 1 / 2 ** parameters[\"refinement\"]\n",
    "\n",
    "        # Calculate position error\n",
    "        try:\n",
    "            file_name_begin = f\"refinement-{parameters['refinement']}_particles_000000.pvtu\"\n",
    "            file_name_end = f\"refinement-{parameters['refinement']}_particles_999999.pvtu\"\n",
    "\n",
    "            mesh_begin = pv.read(run_path / \"solution\" / file_name_begin)\n",
    "            mesh_end = pv.read(run_path / \"solution\" / file_name_end)\n",
    "\n",
    "            mesh_end[\"error\"] = np.linalg.norm(mesh_begin.points - mesh_end.points, axis=1)\n",
    "\n",
    "            mean_error = mesh_end[\"error\"].mean()\n",
    "\n",
    "        except Exception:\n",
    "            mean_error = np.nan\n",
    "\n",
    "        # Insert error into data dict\n",
    "        if grid_spacing not in data:\n",
    "            data[grid_spacing] = {}\n",
    "        data[grid_spacing][parameters[\"time_step\"]] = mean_error\n",
    "\n",
    "    # Convert data dict to pandas DataFrame\n",
    "    return (\n",
    "        pd.DataFrame(data)\n",
    "        .sort_index(axis=0, ascending=False)\n",
    "        .sort_index(axis=1, ascending=False)\n",
    "    )\n",
    "\n",
    "\n",
    "df = load_data(working_dir.parent / \"runs\" / \"euler_explicit\" / \"nearest-neighbor\")\n",
    "df"
   ]
  },
  {
   "cell_type": "markdown",
   "metadata": {},
   "source": [
    "### Tracking error vs. time step "
   ]
  },
  {
   "cell_type": "code",
   "execution_count": 3,
   "metadata": {},
   "outputs": [
    {
     "name": "stdout",
     "output_type": "stream",
     "text": []
    }
   ],
   "source": [
    "from matplotlib.axes import Axes\n",
    "\n",
    "\n",
    "def plot_error_vs_time_step(data: pd.DataFrame, title: str, reference_lines = True, ax: Axes = None):\n",
    "    \"\"\"Plot the velocity error at a given timestep over different grid resolutions.\n",
    "    \n",
    "    Args:\n",
    "        fig\n",
    "        data: A DataFrame containing the error data. The index should be the grid\n",
    "            resolution. Each column will be plotted as a separate line. \n",
    "        title: Title of the plot.\n",
    "        reference_lines: If True, plot reference lines for first and second order\n",
    "            convergence.\n",
    "        ax: The axes to plot on. If None, create a new figure and axes.\n",
    "    \"\"\"\n",
    "\n",
    "    # Create figure and axes if not provided\n",
    "    if ax is None:\n",
    "        fig, ax = plt.subplots(figsize=(12, 12))\n",
    "\n",
    "    # Plot the data\n",
    "    for column in data.columns:\n",
    "        ax.plot(data.index, data[column], label=column)\n",
    "    \n",
    "    # Plot reference lines\n",
    "    if reference_lines:\n",
    "        # First order convergence\n",
    "        ax.plot(data.index, data.index, linestyle=\"--\", color=\"black\", label=\"1st order\")\n",
    "        # Second order convergence\n",
    "        # ax.plot(data.index, data.index ** 2, linestyle=\"--\", color=\"black\", label=\"2nd order\")\n",
    "\n",
    "    # Add labels and legend\n",
    "    ax.set_title(title)\n",
    "    ax.legend()\n",
    "    ax.grid(which=\"both\", linestyle=\"--\", linewidth=0.5)\n",
    "\n",
    "    # Configure axes\n",
    "    ax.set_xlabel(\"Time step\")\n",
    "    ax.set_xscale(\"log\")\n",
    "    ax.invert_xaxis()\n",
    "    \n",
    "    ax.set_ylabel(\"Tracking error\")\n",
    "    ax.set_yscale(\"log\")\n",
    "    ax.set_ylim(data.min().min() / 2, data.max().max() * 2)\n",
    "\n",
    "plot_error_vs_time_step(df, \"Tracking error after full period\")\n"
   ]
  },
  {
   "cell_type": "markdown",
   "metadata": {},
   "source": [
    "### Tracking error vs. grid spacing"
   ]
  },
  {
   "cell_type": "code",
   "execution_count": 4,
   "metadata": {},
   "outputs": [
    {
     "name": "stdout",
     "output_type": "stream",
     "text": []
    }
   ],
   "source": [
    "def plot_error_vs_grid_spacing(data: pd.DataFrame, title: str, reference_lines = True, ax: Axes = None):\n",
    "    \"\"\"Plot the velocity error at a given timestep over different grid resolutions.\n",
    "    \n",
    "    Args:\n",
    "        fig\n",
    "        data: A DataFrame containing the error data. The index should be the grid\n",
    "            resolution. Each column will be plotted as a separate line. \n",
    "        title: Title of the plot.\n",
    "        reference_lines: If True, plot reference lines for first and second order\n",
    "            convergence.\n",
    "        ax: The axes to plot on. If None, create a new figure and axes.\n",
    "    \"\"\"\n",
    "\n",
    "    # Create figure and axes if not provided\n",
    "    if ax is None:\n",
    "        fig, ax = plt.subplots(figsize=(12, 12))\n",
    "\n",
    "    data = data.T\n",
    "\n",
    "    # Plot the data\n",
    "    for column in data.columns:\n",
    "        ax.plot(data.index, data[column], label=column)\n",
    "    \n",
    "    # Plot reference lines\n",
    "    if reference_lines:\n",
    "        # First order convergence\n",
    "        ax.plot(data.index, data.index, linestyle=\"--\", color=\"black\", label=\"1st order\")\n",
    "        # Second order convergence\n",
    "        # ax.plot(data.index, data.index ** 2, linestyle=\"--\", color=\"black\", label=\"2nd order\")\n",
    "\n",
    "    # Add labels and legend\n",
    "    ax.set_title(title)\n",
    "    ax.legend()\n",
    "    ax.grid(which=\"both\", linestyle=\"--\", linewidth=0.5)\n",
    "\n",
    "    # Configure axes\n",
    "    ax.set_xlabel(\"Grid spacing\")\n",
    "    ax.set_xscale(\"log\")\n",
    "    ax.invert_xaxis()\n",
    "    \n",
    "    ax.set_ylabel(\"Tracking error\")\n",
    "    ax.set_yscale(\"log\")\n",
    "    ax.set_ylim(data.min().min() / 2, data.max().max() * 2)\n",
    "\n",
    "plot_error_vs_grid_spacing(df[df.index < 0.001], \"Tracking error after full period\")"
   ]
  },
  {
   "cell_type": "markdown",
   "metadata": {},
   "source": [
    "### Interaction between grid spacing and time step"
   ]
  },
  {
   "cell_type": "code",
   "execution_count": 5,
   "metadata": {},
   "outputs": [
    {
     "name": "stdout",
     "output_type": "stream",
     "text": []
    }
   ],
   "source": [
    "df"
   ]
  },
  {
   "cell_type": "code",
   "execution_count": 6,
   "metadata": {},
   "outputs": [
    {
     "name": "stdout",
     "output_type": "stream",
     "text": []
    }
   ],
   "source": [
    "X = [float(c) for c in df.columns]\n",
    "Y = [float(i) for i in df.index]\n",
    "X, Y = np.meshgrid(X, Y)\n",
    "Z = df.values\n",
    "\n",
    "# Plot the surface\n",
    "fig, ax = plt.subplots(figsize=(12, 12), subplot_kw={\"projection\": \"3d\"})\n",
    "ax.plot_surface(X, Y, Z)\n",
    "\n",
    "# Add labels and legend\n",
    "ax.set_title(\"Tracking error after full period\")\n",
    "ax.grid(which=\"both\", linestyle=\"--\", linewidth=0.5)\n",
    "\n",
    "# # Configure axes\n",
    "ax.set_xlabel(\"Grid spacing\")\n",
    "# ax.set_xscale(\"log\")\n",
    "# ax.invert_xaxis()\n",
    "\n",
    "ax.set_ylabel(\"Time step\")\n",
    "# ax.set_yscale(\"log\")\n",
    "\n",
    "# ax.set_zscale(\"log\")\n",
    "\n",
    "plt.show()"
   ]
  },
  {
   "cell_type": "markdown",
   "metadata": {},
   "source": [
    "### Compare methods"
   ]
  },
  {
   "cell_type": "code",
   "execution_count": 7,
   "metadata": {},
   "outputs": [
    {
     "name": "stdout",
     "output_type": "stream",
     "text": []
    },
    {
     "name": "stdout",
     "output_type": "stream",
     "text": []
    }
   ],
   "source": [
    "fig, ax = plt.subplots(nrows=2, ncols=2, figsize=(24, 14))\n",
    "\n",
    "euler_explicit = load_data(working_dir.parent / \"runs\" / \"euler_explicit\")\n",
    "euler_implicit = load_data(working_dir.parent / \"runs\" / \"euler_implicit\")\n",
    "# trapezoidal = load_data(working_dir.parent / \"runs\" / \"trapezoidal\")\n",
    "\n",
    "plot_error_vs_time_step(\n",
    "    euler_explicit,\n",
    "    title=\"explicit euler\",\n",
    "    ax=ax[0][0],\n",
    ")\n",
    "plot_error_vs_time_step(\n",
    "    euler_implicit,\n",
    "    title=\"implicit euler\",\n",
    "    ax=ax[0][1],\n",
    ")\n",
    "# plot_error_convergence(\n",
    "#     trapezoidal,\n",
    "#     title=\"trapezoidal\",\n",
    "#     ax=ax[1][0],\n",
    "# )\n",
    "\n",
    "# Calculate global y-axis limits\n",
    "x_min = min(subplot.get_xlim()[0] for row in ax for subplot in row)\n",
    "x_max = max(subplot.get_xlim()[1] for row in ax for subplot in row)\n",
    "y_min = min(subplot.get_ylim()[0] for row in ax for subplot in row)\n",
    "y_max = max(subplot.get_ylim()[1] for row in ax for subplot in row)\n",
    "\n",
    "# Set the same x-axis and y-axis limits for all subplots\n",
    "for row in ax:\n",
    "    for subplot in row:\n",
    "        subplot.set_xlim(x_max, x_min)\n",
    "        subplot.set_ylim(y_min, y_max)\n"
   ]
  }
 ],
 "metadata": {
  "kernelspec": {
   "display_name": ".venv",
   "language": "python",
   "name": "python3"
  },
  "language_info": {
   "codemirror_mode": {
    "name": "ipython",
    "version": 3
   },
   "file_extension": ".py",
   "mimetype": "text/x-python",
   "name": "python",
   "nbconvert_exporter": "python",
   "pygments_lexer": "ipython3",
   "version": "3.12.7"
  }
 },
 "nbformat": 4,
 "nbformat_minor": 2
}
